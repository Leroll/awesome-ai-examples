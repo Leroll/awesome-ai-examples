{
 "cells": [
  {
   "cell_type": "markdown",
   "metadata": {},
   "source": [
    "# Import"
   ]
  },
  {
   "cell_type": "code",
   "execution_count": 48,
   "metadata": {
    "ExecuteTime": {
     "end_time": "2021-09-28T12:49:52.755162Z",
     "start_time": "2021-09-28T12:49:52.750325Z"
    },
    "scrolled": true
   },
   "outputs": [],
   "source": [
    "# !nvidia-smi"
   ]
  },
  {
   "cell_type": "code",
   "execution_count": 51,
   "metadata": {
    "ExecuteTime": {
     "end_time": "2021-09-28T12:53:53.613834Z",
     "start_time": "2021-09-28T12:53:53.591275Z"
    }
   },
   "outputs": [
    {
     "name": "stdout",
     "output_type": "stream",
     "text": [
      "cpu\n"
     ]
    }
   ],
   "source": [
    "import os\n",
    "import sys\n",
    "from multiprocessing import Pool\n",
    "from collections import OrderedDict\n",
    "from time import time\n",
    "import datetime\n",
    "from importlib import reload\n",
    "\n",
    "import pandas as pd\n",
    "import numpy as np\n",
    "import random\n",
    "\n",
    "import torch \n",
    "from torch import nn\n",
    "from torch.utils.data import dataloader\n",
    "from transformers import AutoTokenizer, BertModel\n",
    "\n",
    "##\n",
    "import data_processing\n",
    "from models import models_based_on_pretrain\n",
    "from utils import *\n",
    "import train_processing\n",
    "\n",
    "\n",
    "device = torch.device('cpu') # 'cpu' 'cuda:0' \n",
    "print(device)\n",
    "\n",
    "%matplotlib inline"
   ]
  },
  {
   "cell_type": "markdown",
   "metadata": {},
   "source": [
    "## reload"
   ]
  },
  {
   "cell_type": "code",
   "execution_count": 69,
   "metadata": {
    "ExecuteTime": {
     "end_time": "2021-09-28T13:14:53.764246Z",
     "start_time": "2021-09-28T13:14:53.748528Z"
    }
   },
   "outputs": [
    {
     "data": {
      "text/plain": [
       "<module 'models.models_based_on_pretrain' from '/Users/shenjia/Desktop/google_cloud/text_representation/models/models_based_on_pretrain.py'>"
      ]
     },
     "execution_count": 69,
     "metadata": {},
     "output_type": "execute_result"
    }
   ],
   "source": [
    "reload(data_processing)\n",
    "reload(train_processing)\n",
    "reload(models_based_on_pretrain)"
   ]
  },
  {
   "cell_type": "markdown",
   "metadata": {},
   "source": [
    "# Pretrain Models"
   ]
  },
  {
   "cell_type": "code",
   "execution_count": 3,
   "metadata": {
    "ExecuteTime": {
     "end_time": "2021-09-28T06:54:43.625245Z",
     "start_time": "2021-09-28T06:54:42.708916Z"
    }
   },
   "outputs": [
    {
     "name": "stderr",
     "output_type": "stream",
     "text": [
      "Some weights of the model checkpoint at ../nlp_resource/transformers/bert-base-chinese/ were not used when initializing BertModel: ['cls.predictions.transform.dense.bias', 'cls.seq_relationship.bias', 'cls.predictions.transform.LayerNorm.bias', 'cls.predictions.transform.LayerNorm.weight', 'cls.predictions.transform.dense.weight', 'cls.seq_relationship.weight', 'cls.predictions.bias', 'cls.predictions.decoder.weight']\n",
      "- This IS expected if you are initializing BertModel from the checkpoint of a model trained on another task or with another architecture (e.g. initializing a BertForSequenceClassification model from a BertForPreTraining model).\n",
      "- This IS NOT expected if you are initializing BertModel from the checkpoint of a model that you expect to be exactly identical (initializing a BertForSequenceClassification model from a BertForSequenceClassification model).\n"
     ]
    },
    {
     "data": {
      "text/plain": [
       "False"
      ]
     },
     "execution_count": 3,
     "metadata": {},
     "output_type": "execute_result"
    }
   ],
   "source": [
    "\"\"\"\n",
    "path\n",
    "\"\"\"\n",
    "tokenizer_path = '../nlp_resource/transformers/bert-base-chinese/' # tokenizer\n",
    "bert_path = '../nlp_resource/transformers/bert-base-chinese/' # bert\n",
    "\n",
    "\"\"\"\n",
    "get pretrain model\n",
    "\"\"\"\n",
    "tokenizer = AutoTokenizer.from_pretrained(tokenizer_path)\n",
    "bert = BertModel.from_pretrained(bert_path).to(device)\n",
    "bert.training"
   ]
  },
  {
   "cell_type": "markdown",
   "metadata": {},
   "source": [
    "# Dataset"
   ]
  },
  {
   "cell_type": "code",
   "execution_count": 4,
   "metadata": {
    "ExecuteTime": {
     "end_time": "2021-09-28T06:54:43.785030Z",
     "start_time": "2021-09-28T06:54:43.754821Z"
    }
   },
   "outputs": [
    {
     "data": {
      "text/plain": [
       "False"
      ]
     },
     "execution_count": 4,
     "metadata": {},
     "output_type": "execute_result"
    }
   ],
   "source": [
    "data_processor = data_processing.DataProcessor()\n",
    "data_processor.set_vocab(tokenizer.vocab)\n",
    "data_processor.vocab is tokenizer.vocab # should be False"
   ]
  },
  {
   "cell_type": "markdown",
   "metadata": {},
   "source": [
    "## atec"
   ]
  },
  {
   "cell_type": "code",
   "execution_count": 5,
   "metadata": {
    "ExecuteTime": {
     "end_time": "2021-09-28T06:54:46.211696Z",
     "start_time": "2021-09-28T06:54:46.032265Z"
    },
    "code_folding": [],
    "scrolled": true
   },
   "outputs": [
    {
     "name": "stdout",
     "output_type": "stream",
     "text": [
      "------------------------------------------\n",
      "start to read: [atec]...\n",
      "finish reading: [atec]\n",
      "nums: 39346\n",
      "['怎么更改花呗手机号码', '我的花呗是以前的手机号码，怎么更改成现在的支付宝的号码手机号', '1']\n",
      "['也开不了花呗，就这样了？完事了', '真的嘛？就是花呗付款', '0']\n",
      "['花呗冻结以后还能开通吗', '我的条件可以开通花呗借款吗', '0']\n",
      "['如何得知关闭借呗', '想永久关闭借呗', '0']\n",
      "['花呗扫码付钱', '二维码扫描可以用花呗吗', '0']\n",
      "[read_data] cost 0.07s\n",
      "------------------------------------------\n",
      "start to read: [atec]...\n",
      "finish reading: [atec]\n",
      "nums: 63131\n",
      "['为何我无法申请开通花呗信用卡收款', '支付宝开通信用卡花呗收款不符合条件怎么回事', '1']\n",
      "['花呗分期付款会影响使用吗', '花呗分期有什么影响吗', '0']\n",
      "['为什么我花呗没有临时额度', '花呗没有临时额度怎么可以负', '0']\n",
      "['能不能开花呗老兄', '花呗逾期了还能开通', '0']\n",
      "['我的怎么开通花呗收钱', '这个花呗是个什么啥？我没开通 我怎么有账单', '0']\n",
      "[read_data] cost 0.10s\n"
     ]
    }
   ],
   "source": [
    "\"\"\"\n",
    "读取\n",
    "\"\"\"\n",
    "atec = data_processor.read_data(mode='readline',\n",
    "                                name='atec', \n",
    "                                path='../nlp_resource/dataset/ATEC/atec_nlp_sim_train.csv', \n",
    "                                sep='\\t',\n",
    "                                encoder='utf-8',\n",
    "                                has_index=True)\n",
    "\n",
    "atec_add = data_processor.read_data(mode='readline',\n",
    "                                name='atec', \n",
    "                                path='../nlp_resource/dataset/ATEC/atec_nlp_sim_train_add.csv', \n",
    "                                sep='\\t',\n",
    "                                encoder='utf-8',\n",
    "                                has_index=True)\n",
    "atec = atec + atec_add"
   ]
  },
  {
   "cell_type": "code",
   "execution_count": 6,
   "metadata": {
    "ExecuteTime": {
     "end_time": "2021-09-28T06:54:49.297728Z",
     "start_time": "2021-09-28T06:54:47.508488Z"
    },
    "scrolled": false
   },
   "outputs": [
    {
     "name": "stdout",
     "output_type": "stream",
     "text": [
      "Process:0 | [0:10247] \n",
      "Process:1 | [10247:20494] \n",
      "Process:2 | [20494:30741] \n",
      "Process:3 | [30741:40988] \n",
      "Process:4 | [40988:51235] \n",
      "Process:5 | [51235:61482] \n",
      "Process:6 | [61482:71729] \n",
      "Process:7 | [71729:81976] \n",
      "Process:8 | [81976:92223] \n",
      "Process:9 | [92223:102477] \n",
      "[multi] cost 1.78s\n"
     ]
    }
   ],
   "source": [
    "\"\"\"\n",
    "预处理\n",
    "\"\"\"\n",
    "# 单进程处理\n",
    "# atec = data_processor.preprocess_similarity_data(atec)\n",
    "\n",
    "\n",
    "# 多进程处理\n",
    "work_num = 10\n",
    "func = data_processor.preprocess_similarity_data\n",
    "atec = data_processor.multi(work_num, func,atec)"
   ]
  },
  {
   "cell_type": "markdown",
   "metadata": {},
   "source": [
    "## bq_corpus"
   ]
  },
  {
   "cell_type": "code",
   "execution_count": 7,
   "metadata": {
    "ExecuteTime": {
     "end_time": "2021-09-28T06:54:51.191775Z",
     "start_time": "2021-09-28T06:54:50.970750Z"
    },
    "code_folding": [],
    "scrolled": true
   },
   "outputs": [
    {
     "name": "stdout",
     "output_type": "stream",
     "text": [
      "------------------------------------------\n",
      "start to read: [bq_corpus_train]...\n",
      "finish reading: [bq_corpus_train]\n",
      "nums: 100000\n",
      "['用微信都6年，微信没有微粒贷功能', '4。  号码来微粒贷', 0]\n",
      "['微信消费算吗', '还有多少钱没还', 0]\n",
      "['交易密码忘记了找回密码绑定的手机卡也掉了', '怎么最近安全老是要改密码呢好麻烦', 0]\n",
      "['你好 我昨天晚上申请的没有打电话给我 今天之内一定会打吗？', '什么时候可以到账', 0]\n",
      "['“微粒贷开通\"', '你好，我的微粒贷怎么没有开通呢', 0]\n",
      "[read_data] cost 0.18s\n",
      "------------------------------------------\n",
      "start to read: [bq_corpus_val]...\n",
      "finish reading: [bq_corpus_val]\n",
      "nums: 10000\n",
      "['不要借了我是试试看能否操作的', '借款审核期间能否取消借款', 0]\n",
      "['亲怎样才能在钱包里有微粒货的图标呢', '借不到', 0]\n",
      "['你好，我还款银行怎么更换', '怎么更换绑定还款的卡', 1]\n",
      "['我的借贷额度，怎么减少了呢？', '微粒贷额度怎么才能降低', 0]\n",
      "['什么时候可以知道借款成功', '2.多笔借款', 0]\n",
      "[read_data] cost 0.01s\n",
      "------------------------------------------\n",
      "start to read: [bq_corpus_test]...\n",
      "finish reading: [bq_corpus_test]\n",
      "nums: 10000\n",
      "['为什么我无法看到额度', '为什么开通了却没有额度', 0]\n",
      "['为啥换不了', '为两次还都提示失败呢', 0]\n",
      "['借了钱，但还没有通过，可以取消吗？', '可否取消', 1]\n",
      "['为什么我申请额度输入密码就一直是那个页面', '为什么要输入支付密码来验证', 0]\n",
      "['今天借 明天还款可以？', '今天借明天还要手续费吗', 0]\n",
      "[read_data] cost 0.01s\n"
     ]
    }
   ],
   "source": [
    "\"\"\"\n",
    "读取\n",
    "\"\"\"\n",
    "path= './data/bq_corpus/'\n",
    "mode = 'pandas'\n",
    "sep = ','\n",
    "encoder = 'utf-8'\n",
    "\n",
    "bq_corpus_train = data_processor.read_data(mode=mode,sep=sep,encoder=encoder,\n",
    "                                           name='bq_corpus_train', \n",
    "                                           path=path+'train.csv')\n",
    "\n",
    "bq_corpus_val = data_processor.read_data(mode=mode,sep=sep,encoder=encoder,\n",
    "                                         name='bq_corpus_val', \n",
    "                                         path=path+'dev.csv')\n",
    "\n",
    "bq_corpus_test = data_processor.read_data(mode=mode,sep=sep,encoder=encoder,\n",
    "                                          name='bq_corpus_test', \n",
    "                                          path=path+'test.csv')"
   ]
  },
  {
   "cell_type": "code",
   "execution_count": 8,
   "metadata": {
    "ExecuteTime": {
     "end_time": "2021-09-28T06:54:55.217276Z",
     "start_time": "2021-09-28T06:54:52.717992Z"
    },
    "scrolled": true
   },
   "outputs": [
    {
     "name": "stdout",
     "output_type": "stream",
     "text": [
      "Process:0 | [0:10000] \n",
      "Process:1 | [10000:20000] \n",
      "Process:2 | [20000:30000] \n",
      "Process:3 | [30000:40000] \n",
      "Process:4 | [40000:50000] \n",
      "Process:5 | [50000:60000] \n",
      "Process:6 | [60000:70000] \n",
      "Process:7 | [70000:80000] \n",
      "Process:8 | [80000:90000] \n",
      "Process:9 | [90000:100000] \n",
      "[multi] cost 1.84s\n",
      "Process:0 | [0:1000] \n",
      "Process:1 | [1000:2000] \n",
      "Process:2 | [2000:3000] \n",
      "Process:3 | [3000:4000] \n",
      "Process:4 | [4000:5000] \n",
      "Process:5 | [5000:6000] \n",
      "Process:6 | [6000:7000] \n",
      "Process:7 | [7000:8000] \n",
      "Process:8 | [8000:9000] \n",
      "Process:9 | [9000:10000] \n",
      "[multi] cost 0.27s\n",
      "伸请微粒货我到疷要等多久帮忙查下   | 30135(･ิϖ･ิ)っ看不到 || 3636疷为什么我没有微鞡货 我借不了款 \n",
      " || 如何还歀ิ 为什么我没有微鞡货 我借不了款 \n",
      " 38817| (･ิϖ･ิ)っ看不到 | |27456 |  38817 鞡强烈要求增额﹉如何还歀 |982\n",
      " |   || 为什么我没有微鞡货 我借不了款歀|  鞡 为什么我没有微鞡货 我借不了款 \n",
      "6509727456\n",
      "|ϖ   |\n",
      " 为什么我没有微鞡货 我借不了款|| (･ิϖ･ิ)っ看不到38817    38817 |﹉歀| | 伸请微粒货我到疷要等多久帮忙查下\n",
      "\n",
      " 38817|   鞡3636 为什么我没有微鞡货 我借不了款|| \n",
      "如何还歀鞡 | \n",
      " 30135 鞡| ิ\n",
      " | \n",
      "27456 疷 \n",
      "|(･ิϖ･ิ)っ看不到  |歀|\n",
      "  363638817  Process:0 | [0:1000] \n",
      "Process:1 | [1000:2000] \n",
      "Process:2 | [2000:3000] \n",
      "Process:3 | [3000:4000] \n",
      "Process:4 | [4000:5000] \n",
      "Process:5 | [5000:6000] \n",
      "Process:6 | [6000:7000] \n",
      "Process:7 | [7000:8000] \n",
      "Process:8 | [8000:9000] \n",
      "Process:9 | [9000:10000] \n",
      "| ิ|\n",
      " (･ิϖ･ิ)っ看不到鞡 \n",
      "|2⃣️十几分钟了都没有消息！还说三分钟搞定？？？如何还歀  982 强烈要求增额﹉|   ||| 8419 ϖ  27456|\n",
      "65097 (･ิϖ･ิ)っ看不到  | ⃣|\n",
      " |3636   歀| ﹉\n",
      "ิ\n",
      "\n",
      "如何还歀 | 27456 | 歀\n",
      "强烈要求增额﹉ | 65097 | ﹉\n",
      "[multi] cost 0.37s\n"
     ]
    }
   ],
   "source": [
    "\"\"\"\n",
    "预处理\n",
    "\n",
    "test 数据集也可以处理, 不过只使用训练集的经验知识来处理\n",
    "\"\"\"\n",
    "# 单进程处理\n",
    "# bq_corpus_train = data_processor.preprocess_similarity_data(bq_corpus_train)\n",
    "# bq_corpus_val = data_processor.preprocess_similarity_data(bq_corpus_val)\n",
    "# bq_corpus_test = data_processor.preprocess_similarity_data(bq_corpus_test)\n",
    "\n",
    "# 多进程处理\n",
    "work_num = 10\n",
    "func = data_processor.preprocess_similarity_data\n",
    "bq_corpus_train = data_processor.multi(work_num, func, bq_corpus_train)\n",
    "bq_corpus_val = data_processor.multi(work_num, func, bq_corpus_val)\n",
    "bq_corpus_test = data_processor.multi(work_num, func, bq_corpus_test)"
   ]
  },
  {
   "cell_type": "markdown",
   "metadata": {},
   "source": [
    "## build dataset"
   ]
  },
  {
   "cell_type": "markdown",
   "metadata": {
    "heading_collapsed": true
   },
   "source": [
    "### Similarity Dataset"
   ]
  },
  {
   "cell_type": "markdown",
   "metadata": {
    "hidden": true
   },
   "source": [
    "#### single"
   ]
  },
  {
   "cell_type": "code",
   "execution_count": null,
   "metadata": {
    "hidden": true
   },
   "outputs": [],
   "source": [
    "train = bq_corpus_train\n",
    "val = bq_corpus_val\n",
    "test = bq_corpus_test\n",
    "\n",
    "len(train), len(val), len(test)"
   ]
  },
  {
   "cell_type": "markdown",
   "metadata": {
    "hidden": true
   },
   "source": [
    "#### sum"
   ]
  },
  {
   "cell_type": "code",
   "execution_count": 24,
   "metadata": {
    "ExecuteTime": {
     "end_time": "2021-09-27T06:35:47.752292Z",
     "start_time": "2021-09-27T06:35:47.740724Z"
    },
    "hidden": true
   },
   "outputs": [
    {
     "data": {
      "text/plain": [
       "(202477, 10000, 10000)"
      ]
     },
     "execution_count": 24,
     "metadata": {},
     "output_type": "execute_result"
    }
   ],
   "source": [
    "train = bq_corpus_train + atec\n",
    "val = bq_corpus_val\n",
    "test = bq_corpus_test\n",
    "\n",
    "len(train), len(val), len(test)"
   ]
  },
  {
   "cell_type": "markdown",
   "metadata": {
    "hidden": true
   },
   "source": [
    "#### sum + exchange"
   ]
  },
  {
   "cell_type": "code",
   "execution_count": 25,
   "metadata": {
    "ExecuteTime": {
     "end_time": "2021-09-27T06:42:23.670910Z",
     "start_time": "2021-09-27T06:42:23.240248Z"
    },
    "hidden": true
   },
   "outputs": [
    {
     "data": {
      "text/plain": [
       "(404954, 10000, 10000)"
      ]
     },
     "execution_count": 25,
     "metadata": {},
     "output_type": "execute_result"
    }
   ],
   "source": [
    "train = bq_corpus_train + atec\n",
    "q1, q2, label = tuple(zip(*train))\n",
    "train_change = list(zip(q2,q1,label))\n",
    "\n",
    "train = train + train_change\n",
    "val = bq_corpus_val\n",
    "test = bq_corpus_test\n",
    "\n",
    "len(train), len(val), len(test)"
   ]
  },
  {
   "cell_type": "markdown",
   "metadata": {
    "hidden": true
   },
   "source": [
    "#### description"
   ]
  },
  {
   "cell_type": "code",
   "execution_count": 26,
   "metadata": {
    "ExecuteTime": {
     "end_time": "2021-09-27T06:47:03.161172Z",
     "start_time": "2021-09-27T06:47:02.423282Z"
    },
    "hidden": true
   },
   "outputs": [
    {
     "name": "stdout",
     "output_type": "stream",
     "text": [
      "最大长度: 201\n"
     ]
    },
    {
     "data": {
      "text/plain": [
       "<AxesSubplot:>"
      ]
     },
     "execution_count": 26,
     "metadata": {},
     "output_type": "execute_result"
    },
    {
     "data": {
      "image/png": "[encoded data removed]",
      "text/plain": [
       "<Figure size 432x288 with 1 Axes>"
      ]
     },
     "metadata": {
      "needs_background": "light"
     },
     "output_type": "display_data"
    }
   ],
   "source": [
    "q1, q2, label = list(zip(*train))\n",
    "q = [q1[i]+q2[i] for i in range(len(label))]\n",
    "\n",
    "res = pd.Series(q).apply(lambda x: len(x))\n",
    "print('最大长度:',res.max())\n",
    "res.hist(bins=100)"
   ]
  },
  {
   "cell_type": "markdown",
   "metadata": {},
   "source": [
    "### mlm dataset"
   ]
  },
  {
   "cell_type": "code",
   "execution_count": 9,
   "metadata": {
    "ExecuteTime": {
     "end_time": "2021-09-28T06:54:57.667028Z",
     "start_time": "2021-09-28T06:54:57.350728Z"
    }
   },
   "outputs": [
    {
     "data": {
      "text/plain": [
       "424954"
      ]
     },
     "execution_count": 9,
     "metadata": {},
     "output_type": "execute_result"
    }
   ],
   "source": [
    "\"\"\"\n",
    "ori text data\n",
    "\"\"\"\n",
    "mlm_data = (list(zip(*bq_corpus_train))[0] \n",
    "            + list(zip(*bq_corpus_train))[1]\n",
    "            + list(zip(*bq_corpus_val))[0]\n",
    "            + list(zip(*bq_corpus_val))[1]\n",
    "            + list(zip(*atec))[0]\n",
    "            + list(zip(*atec))[1])\n",
    "len(mlm_data)"
   ]
  },
  {
   "cell_type": "code",
   "execution_count": 10,
   "metadata": {
    "ExecuteTime": {
     "end_time": "2021-09-28T06:54:58.349274Z",
     "start_time": "2021-09-28T06:54:58.285259Z"
    }
   },
   "outputs": [
    {
     "name": "stdout",
     "output_type": "stream",
     "text": [
      "227826\n",
      "买车可以用花呗吗\n",
      "我的花呗收不了款是什么原因\n",
      "花呗账号和现在的账号不一样怎么办\n",
      "花呗最低还款，只还一半可以吗\n",
      "使用花呗后有抽一次奖的，是否没了\n"
     ]
    }
   ],
   "source": [
    "\"\"\"\n",
    "drop duplicate\n",
    "\"\"\"\n",
    "mlm_data = list(set(mlm_data))\n",
    "print(len(mlm_data))\n",
    "for i in range(5):\n",
    "    print(mlm_data[i])"
   ]
  },
  {
   "cell_type": "code",
   "execution_count": 11,
   "metadata": {
    "ExecuteTime": {
     "end_time": "2021-09-28T06:54:59.280021Z",
     "start_time": "2021-09-28T06:54:58.990929Z"
    },
    "scrolled": true
   },
   "outputs": [
    {
     "data": {
      "text/plain": [
       "<AxesSubplot:>"
      ]
     },
     "execution_count": 11,
     "metadata": {},
     "output_type": "execute_result"
    },
    {
     "data": {
      "image/png": "[encoded data removed]",
      "text/plain": [
       "<Figure size 432x288 with 1 Axes>"
      ]
     },
     "metadata": {
      "needs_background": "light"
     },
     "output_type": "display_data"
    }
   ],
   "source": [
    "pd.Series(mlm_data).apply(lambda x : len(x)).hist(bins=100)"
   ]
  },
  {
   "cell_type": "code",
   "execution_count": 12,
   "metadata": {
    "ExecuteTime": {
     "end_time": "2021-09-28T06:54:59.860681Z",
     "start_time": "2021-09-28T06:54:59.852177Z"
    }
   },
   "outputs": [],
   "source": [
    "\"\"\"\n",
    "split data idx\n",
    "\"\"\"\n",
    "val_idx = random.sample(range(len(mlm_data)), int(1e4))\n",
    "val_hash_idx = {}\n",
    "for i in val_idx:\n",
    "    val_hash_idx[i]=0"
   ]
  },
  {
   "cell_type": "code",
   "execution_count": 13,
   "metadata": {
    "ExecuteTime": {
     "end_time": "2021-09-28T06:55:00.614315Z",
     "start_time": "2021-09-28T06:55:00.552509Z"
    }
   },
   "outputs": [
    {
     "name": "stdout",
     "output_type": "stream",
     "text": [
      "227826 10000 217826\n"
     ]
    }
   ],
   "source": [
    "\"\"\"\n",
    "get split data\n",
    "\"\"\"\n",
    "val = [mlm_data[i] for i in range(len(mlm_data)) if i in val_hash_idx]\n",
    "train = [mlm_data[i] for i in range(len(mlm_data)) if i not in val_hash_idx]\n",
    "print(len(mlm_data),len(val), len(train))"
   ]
  },
  {
   "cell_type": "code",
   "execution_count": 14,
   "metadata": {
    "ExecuteTime": {
     "end_time": "2021-09-28T06:55:08.265857Z",
     "start_time": "2021-09-28T06:55:01.343086Z"
    },
    "scrolled": true
   },
   "outputs": [
    {
     "name": "stdout",
     "output_type": "stream",
     "text": [
      "Inputs & labels:\n",
      "[['买', '车', '可', '以', '用', '花', '呗', '吗'], ['[PAD]', '[PAD]', '[PAD]', '[PAD]', '用', '[PAD]', '[PAD]', '[PAD]']]\n",
      "[['我', '的', '花', '呗', '收', '不', '了', '么', '是', '[MASK]', '么', '原', '因'], ['[PAD]', '[PAD]', '[PAD]', '[PAD]', '[PAD]', '[PAD]', '[PAD]', '款', '[PAD]', '什', '[PAD]', '[PAD]', '[PAD]']]\n",
      "[['花', '[MASK]', '账', '号', '和', '现', '在', '的', '账', '号', '不', '一', '样', '怎', '么', '办'], ['[PAD]', '呗', '[PAD]', '[PAD]', '和', '[PAD]', '[PAD]', '[PAD]', '[PAD]', '[PAD]', '[PAD]', '[PAD]', '[PAD]', '[PAD]', '[PAD]', '[PAD]']]\n",
      "[['花', '呗', '[MASK]', '低', '还', '款', '，', '只', '还', '一', '半', '可', '以', '[MASK]'], ['[PAD]', '[PAD]', '最', '[PAD]', '[PAD]', '[PAD]', '[PAD]', '[PAD]', '[PAD]', '[PAD]', '[PAD]', '[PAD]', '[PAD]', '吗']]\n",
      "[['使', '了', '花', '呗', '后', '有', '抽', '[MASK]', '次', '奖', '的', '，', '是', '否', '没', '了'], ['[PAD]', '用', '[PAD]', '[PAD]', '[PAD]', '[PAD]', '[PAD]', '一', '[PAD]', '[PAD]', '[PAD]', '[PAD]', '[PAD]', '[PAD]', '[PAD]', '[PAD]']]\n",
      "Inputs & labels:\n",
      "[['买', '车', '可', '以', '用', '花', '呗', '吗'], ['[PAD]', '[PAD]', '[PAD]', '以', '[PAD]', '[PAD]', '[PAD]', '[PAD]']]\n",
      "[['我', '的', '花', '呗', '收', '不', '了', '款', '是', '什', '么', '原', '因'], ['[PAD]', '[PAD]', '[PAD]', '[PAD]', '[PAD]', '[PAD]', '[PAD]', '[PAD]', '是', '[PAD]', '[PAD]', '[PAD]', '因']]\n",
      "[['[MASK]', '呗', '账', '号', '和', '现', '在', '的', '账', '号', '不', '一', '样', '怎', '么', '办'], ['花', '[PAD]', '[PAD]', '[PAD]', '[PAD]', '[PAD]', '[PAD]', '[PAD]', '[PAD]', '[PAD]', '[PAD]', '一', '[PAD]', '[PAD]', '[PAD]', '[PAD]']]\n",
      "[['花', '[MASK]', '最', '[MASK]', '还', '款', '，', '只', '还', '一', '半', '可', '以', '吗'], ['[PAD]', '呗', '[PAD]', '低', '[PAD]', '[PAD]', '[PAD]', '[PAD]', '[PAD]', '[PAD]', '[PAD]', '[PAD]', '[PAD]', '[PAD]']]\n",
      "[['[MASK]', '用', '花', '呗', '后', '有', '抽', '一', '次', '奖', '的', '，', '是', '[MASK]', '没', '了'], ['使', '[PAD]', '[PAD]', '[PAD]', '[PAD]', '[PAD]', '[PAD]', '[PAD]', '[PAD]', '[PAD]', '[PAD]', '[PAD]', '[PAD]', '否', '[PAD]', '[PAD]']]\n",
      "Inputs & labels:\n",
      "[['花', '呗', '逾', '期', '后', '什', '么', '[MASK]', '候', '能', '在', '[MASK]', '开', '启'], ['[PAD]', '[PAD]', '[PAD]', '[PAD]', '[PAD]', '[PAD]', '[PAD]', '时', '[PAD]', '[PAD]', '[PAD]', '此', '[PAD]', '[PAD]']]\n",
      "[['花', '呗', '[MASK]', '消', '费', '额'], ['[PAD]', '[PAD]', '总', '[PAD]', '[PAD]', '[PAD]']]\n",
      "[['花', '呗', '[MASK]', '款', '，', '银', '行', '线', '儿', '以', '外', '操', '过', '的', '还', '不', '了', '怎', '么', '办'], ['[PAD]', '[PAD]', '还', '款', '[PAD]', '[PAD]', '[PAD]', '[PAD]', '[PAD]', '以', '[PAD]', '[PAD]', '[PAD]', '[PAD]', '[PAD]', '[PAD]', '[PAD]', '[PAD]', '[PAD]', '[PAD]']]\n",
      "[['我', '想', '借', '钱', '，', '可', '是', '手', '[MASK]', '没', '有', '[MASK]', '标', '显', '示'], ['[PAD]', '[PAD]', '[PAD]', '[PAD]', '[PAD]', '[PAD]', '[PAD]', '[PAD]', '机', '[PAD]', '[PAD]', '图', '[PAD]', '[PAD]', '[PAD]']]\n",
      "[['花', '呗', '用', '不', '[MASK]', '是', '怎', '么', '的'], ['[PAD]', '[PAD]', '[PAD]', '[PAD]', '了', '[PAD]', '[PAD]', '[PAD]', '[PAD]']]\n"
     ]
    }
   ],
   "source": [
    "\"\"\"\n",
    "mask data\n",
    "\"\"\"\n",
    "train = data_processor.get_masked_data(train) + data_processor.get_masked_data(train) # mask 两次\n",
    "val = data_processor.get_masked_data(val)"
   ]
  },
  {
   "cell_type": "code",
   "execution_count": 15,
   "metadata": {
    "ExecuteTime": {
     "end_time": "2021-09-28T06:55:12.845886Z",
     "start_time": "2021-09-28T06:55:12.843298Z"
    }
   },
   "outputs": [
    {
     "data": {
      "text/plain": [
       "(435652, 10000)"
      ]
     },
     "execution_count": 15,
     "metadata": {},
     "output_type": "execute_result"
    }
   ],
   "source": [
    "len(train), len(val)"
   ]
  },
  {
   "cell_type": "markdown",
   "metadata": {},
   "source": [
    "## dataloader"
   ]
  },
  {
   "cell_type": "code",
   "execution_count": 16,
   "metadata": {
    "ExecuteTime": {
     "end_time": "2021-09-28T06:55:19.730151Z",
     "start_time": "2021-09-28T06:55:19.724521Z"
    }
   },
   "outputs": [],
   "source": [
    "def collate_list_of_list(x):\n",
    "    \"\"\"\n",
    "    针对已经分离好了的 list 样本\n",
    "    [\n",
    "        [ ['我','[MASK]','你'], ['[PAD]','看','[PAD]'] ],\n",
    "        [ [...], [...] ],\n",
    "        ...\n",
    "    ]\n",
    "    输入为根据 idx 挑出来的一个batch\n",
    "    \"\"\"\n",
    "    inputs = []\n",
    "    labels = []\n",
    "    for i in x:\n",
    "        inputs.append(i[0])\n",
    "        labels.append(i[1])\n",
    "    return inputs,labels"
   ]
  },
  {
   "cell_type": "code",
   "execution_count": 17,
   "metadata": {
    "ExecuteTime": {
     "end_time": "2021-09-28T06:56:19.993879Z",
     "start_time": "2021-09-28T06:56:19.990222Z"
    }
   },
   "outputs": [],
   "source": [
    "dataloader_config = {\n",
    "    'collate_fn': collate_list_of_list,\n",
    "    'batch_size': 32\n",
    "}"
   ]
  },
  {
   "cell_type": "code",
   "execution_count": 18,
   "metadata": {
    "ExecuteTime": {
     "end_time": "2021-09-28T06:56:24.645959Z",
     "start_time": "2021-09-28T06:56:24.627023Z"
    }
   },
   "outputs": [],
   "source": [
    "train_loader = data_processor.create_dataloader(train, is_shuffle=True, **dataloader_config)\n",
    "val_loader = data_processor.create_dataloader(val, is_shuffle=True, **dataloader_config)\n",
    "if 'test' in locals():\n",
    "    test_loader = data_processor.create_dataloader(test, is_shuffle=False, **dataloader_config)\n",
    "\n",
    "# 查验是否能迭代起来\n",
    "for i in train_loader:  \n",
    "    break"
   ]
  },
  {
   "cell_type": "markdown",
   "metadata": {},
   "source": [
    "# Model"
   ]
  },
  {
   "cell_type": "code",
   "execution_count": 19,
   "metadata": {
    "ExecuteTime": {
     "end_time": "2021-09-28T06:56:29.187571Z",
     "start_time": "2021-09-28T06:56:29.185703Z"
    }
   },
   "outputs": [],
   "source": [
    "model_config = {\n",
    "    'name': 'mlm_bert',\n",
    "    'device': device,\n",
    "    'tokenizer': tokenizer,\n",
    "    'pretrain_model': bert,\n",
    "    \n",
    "    'max_len': 120\n",
    "}"
   ]
  },
  {
   "cell_type": "code",
   "execution_count": 20,
   "metadata": {
    "ExecuteTime": {
     "end_time": "2021-09-28T06:56:34.136698Z",
     "start_time": "2021-09-28T06:56:33.789298Z"
    }
   },
   "outputs": [],
   "source": [
    "model = MlmBert(**model_config)\n",
    "model.save(prefix='init')"
   ]
  },
  {
   "cell_type": "markdown",
   "metadata": {},
   "source": [
    "# training"
   ]
  },
  {
   "cell_type": "code",
   "execution_count": 34,
   "metadata": {
    "ExecuteTime": {
     "end_time": "2021-09-28T10:15:45.751172Z",
     "start_time": "2021-09-28T10:15:45.748072Z"
    }
   },
   "outputs": [],
   "source": [
    "loss = nn.CrossEntropyLoss(reduction='none') # 注意得到的loss还要去mask，所以不能提前mean\n",
    "optimizer = torch.optim.Adam(model.parameters(), lr=2e-5)"
   ]
  },
  {
   "cell_type": "code",
   "execution_count": 70,
   "metadata": {
    "ExecuteTime": {
     "end_time": "2021-09-28T13:14:56.916243Z",
     "start_time": "2021-09-28T13:14:56.910585Z"
    }
   },
   "outputs": [],
   "source": [
    "trainer = train_processing.Trainer(train_loader, val_loader, model, loss, optimizer)"
   ]
  },
  {
   "cell_type": "code",
   "execution_count": 71,
   "metadata": {
    "ExecuteTime": {
     "end_time": "2021-09-28T13:52:13.225067Z",
     "start_time": "2021-09-28T13:14:59.239963Z"
    },
    "scrolled": true
   },
   "outputs": [
    {
     "name": "stdout",
     "output_type": "stream",
     "text": [
      "start training: 2021-09-28 21:14:59.240454\n",
      "------------------------------------------\n",
      "Epoch: 1\n"
     ]
    },
    {
     "ename": "KeyboardInterrupt",
     "evalue": "",
     "output_type": "error",
     "traceback": [
      "\u001b[0;31m---------------------------------------------------------------------------\u001b[0m",
      "\u001b[0;31mKeyboardInterrupt\u001b[0m                         Traceback (most recent call last)",
      "\u001b[0;32m/var/folders/7c/v355q8d14tn8s_ykmkyztcb00000gn/T/ipykernel_37197/1689870652.py\u001b[0m in \u001b[0;36m<module>\u001b[0;34m\u001b[0m\n\u001b[0;32m----> 1\u001b[0;31m \u001b[0mtrainer\u001b[0m\u001b[0;34m.\u001b[0m\u001b[0mtraining\u001b[0m\u001b[0;34m(\u001b[0m\u001b[0;34m)\u001b[0m\u001b[0;34m\u001b[0m\u001b[0;34m\u001b[0m\u001b[0m\n\u001b[0m",
      "\u001b[0;32m~/Desktop/google_cloud/text_representation/train_processing.py\u001b[0m in \u001b[0;36mtraining\u001b[0;34m(self, epoch)\u001b[0m\n\u001b[1;32m    102\u001b[0m \u001b[0;34m\u001b[0m\u001b[0m\n\u001b[1;32m    103\u001b[0m             \u001b[0mt1\u001b[0m \u001b[0;34m=\u001b[0m \u001b[0mtime\u001b[0m\u001b[0;34m(\u001b[0m\u001b[0;34m)\u001b[0m\u001b[0;34m\u001b[0m\u001b[0;34m\u001b[0m\u001b[0m\n\u001b[0;32m--> 104\u001b[0;31m             \u001b[0mself\u001b[0m\u001b[0;34m.\u001b[0m\u001b[0m_train_one_epoch\u001b[0m\u001b[0;34m(\u001b[0m\u001b[0;34m)\u001b[0m\u001b[0;34m\u001b[0m\u001b[0;34m\u001b[0m\u001b[0m\n\u001b[0m\u001b[1;32m    105\u001b[0m             \u001b[0mt2\u001b[0m \u001b[0;34m=\u001b[0m \u001b[0mtime\u001b[0m\u001b[0;34m(\u001b[0m\u001b[0;34m)\u001b[0m\u001b[0;34m\u001b[0m\u001b[0;34m\u001b[0m\u001b[0m\n\u001b[1;32m    106\u001b[0m             \u001b[0mself\u001b[0m\u001b[0;34m.\u001b[0m\u001b[0mlogger\u001b[0m\u001b[0;34m(\u001b[0m\u001b[0;34mf'cost:{(t2 - t1) / 3600:0.2f}h'\u001b[0m\u001b[0;34m)\u001b[0m\u001b[0;34m\u001b[0m\u001b[0;34m\u001b[0m\u001b[0m\n",
      "\u001b[0;32m~/Desktop/google_cloud/text_representation/train_processing.py\u001b[0m in \u001b[0;36m_train_one_epoch\u001b[0;34m(self)\u001b[0m\n\u001b[1;32m     77\u001b[0m             \u001b[0;31m# back propagation 三连\u001b[0m\u001b[0;34m\u001b[0m\u001b[0;34m\u001b[0m\u001b[0;34m\u001b[0m\u001b[0m\n\u001b[1;32m     78\u001b[0m             \u001b[0mself\u001b[0m\u001b[0;34m.\u001b[0m\u001b[0moptimizer\u001b[0m\u001b[0;34m.\u001b[0m\u001b[0mzero_grad\u001b[0m\u001b[0;34m(\u001b[0m\u001b[0;34m)\u001b[0m\u001b[0;34m\u001b[0m\u001b[0;34m\u001b[0m\u001b[0m\n\u001b[0;32m---> 79\u001b[0;31m             \u001b[0mcur_loss\u001b[0m\u001b[0;34m.\u001b[0m\u001b[0mbackward\u001b[0m\u001b[0;34m(\u001b[0m\u001b[0;34m)\u001b[0m\u001b[0;34m\u001b[0m\u001b[0;34m\u001b[0m\u001b[0m\n\u001b[0m\u001b[1;32m     80\u001b[0m             \u001b[0mself\u001b[0m\u001b[0;34m.\u001b[0m\u001b[0moptimizer\u001b[0m\u001b[0;34m.\u001b[0m\u001b[0mstep\u001b[0m\u001b[0;34m(\u001b[0m\u001b[0;34m)\u001b[0m\u001b[0;34m\u001b[0m\u001b[0;34m\u001b[0m\u001b[0m\n\u001b[1;32m     81\u001b[0m \u001b[0;34m\u001b[0m\u001b[0m\n",
      "\u001b[0;32m~/opt/anaconda3/envs/sword/lib/python3.7/site-packages/torch/_tensor.py\u001b[0m in \u001b[0;36mbackward\u001b[0;34m(self, gradient, retain_graph, create_graph, inputs)\u001b[0m\n\u001b[1;32m    253\u001b[0m                 \u001b[0mcreate_graph\u001b[0m\u001b[0;34m=\u001b[0m\u001b[0mcreate_graph\u001b[0m\u001b[0;34m,\u001b[0m\u001b[0;34m\u001b[0m\u001b[0;34m\u001b[0m\u001b[0m\n\u001b[1;32m    254\u001b[0m                 inputs=inputs)\n\u001b[0;32m--> 255\u001b[0;31m         \u001b[0mtorch\u001b[0m\u001b[0;34m.\u001b[0m\u001b[0mautograd\u001b[0m\u001b[0;34m.\u001b[0m\u001b[0mbackward\u001b[0m\u001b[0;34m(\u001b[0m\u001b[0mself\u001b[0m\u001b[0;34m,\u001b[0m \u001b[0mgradient\u001b[0m\u001b[0;34m,\u001b[0m \u001b[0mretain_graph\u001b[0m\u001b[0;34m,\u001b[0m \u001b[0mcreate_graph\u001b[0m\u001b[0;34m,\u001b[0m \u001b[0minputs\u001b[0m\u001b[0;34m=\u001b[0m\u001b[0minputs\u001b[0m\u001b[0;34m)\u001b[0m\u001b[0;34m\u001b[0m\u001b[0;34m\u001b[0m\u001b[0m\n\u001b[0m\u001b[1;32m    256\u001b[0m \u001b[0;34m\u001b[0m\u001b[0m\n\u001b[1;32m    257\u001b[0m     \u001b[0;32mdef\u001b[0m \u001b[0mregister_hook\u001b[0m\u001b[0;34m(\u001b[0m\u001b[0mself\u001b[0m\u001b[0;34m,\u001b[0m \u001b[0mhook\u001b[0m\u001b[0;34m)\u001b[0m\u001b[0;34m:\u001b[0m\u001b[0;34m\u001b[0m\u001b[0;34m\u001b[0m\u001b[0m\n",
      "\u001b[0;32m~/opt/anaconda3/envs/sword/lib/python3.7/site-packages/torch/autograd/__init__.py\u001b[0m in \u001b[0;36mbackward\u001b[0;34m(tensors, grad_tensors, retain_graph, create_graph, grad_variables, inputs)\u001b[0m\n\u001b[1;32m    147\u001b[0m     Variable._execution_engine.run_backward(\n\u001b[1;32m    148\u001b[0m         \u001b[0mtensors\u001b[0m\u001b[0;34m,\u001b[0m \u001b[0mgrad_tensors_\u001b[0m\u001b[0;34m,\u001b[0m \u001b[0mretain_graph\u001b[0m\u001b[0;34m,\u001b[0m \u001b[0mcreate_graph\u001b[0m\u001b[0;34m,\u001b[0m \u001b[0minputs\u001b[0m\u001b[0;34m,\u001b[0m\u001b[0;34m\u001b[0m\u001b[0;34m\u001b[0m\u001b[0m\n\u001b[0;32m--> 149\u001b[0;31m         allow_unreachable=True, accumulate_grad=True)  # allow_unreachable flag\n\u001b[0m\u001b[1;32m    150\u001b[0m \u001b[0;34m\u001b[0m\u001b[0m\n\u001b[1;32m    151\u001b[0m \u001b[0;34m\u001b[0m\u001b[0m\n",
      "\u001b[0;31mKeyboardInterrupt\u001b[0m: "
     ]
    }
   ],
   "source": [
    "trainer.training()"
   ]
  }
 ],
 "metadata": {
  "kernelspec": {
   "display_name": "Python 3 (ipykernel)",
   "language": "python",
   "name": "python3"
  },
  "language_info": {
   "codemirror_mode": {
    "name": "ipython",
    "version": 3
   },
   "file_extension": ".py",
   "mimetype": "text/x-python",
   "name": "python",
   "nbconvert_exporter": "python",
   "pygments_lexer": "ipython3",
   "version": "3.7.11"
  },
  "latex_envs": {
   "LaTeX_envs_menu_present": true,
   "autoclose": false,
   "autocomplete": true,
   "bibliofile": "biblio.bib",
   "cite_by": "apalike",
   "current_citInitial": 1,
   "eqLabelWithNumbers": true,
   "eqNumInitial": 1,
   "hotkeys": {
    "equation": "Ctrl-E",
    "itemize": "Ctrl-I"
   },
   "labels_anchors": false,
   "latex_user_defs": false,
   "report_style_numbering": false,
   "user_envs_cfg": false
  },
  "toc": {
   "base_numbering": 1,
   "nav_menu": {},
   "number_sections": true,
   "sideBar": true,
   "skip_h1_title": false,
   "title_cell": "Table of Contents",
   "title_sidebar": "Contents",
   "toc_cell": false,
   "toc_position": {
    "height": "calc(100% - 180px)",
    "left": "10px",
    "top": "150px",
    "width": "185.938px"
   },
   "toc_section_display": true,
   "toc_window_display": true
  },
  "varInspector": {
   "cols": {
    "lenName": 16,
    "lenType": 16,
    "lenVar": 40
   },
   "kernels_config": {
    "python": {
     "delete_cmd_postfix": "",
     "delete_cmd_prefix": "del ",
     "library": "var_list.py",
     "varRefreshCmd": "print(var_dic_list())"
    },
    "r": {
     "delete_cmd_postfix": ") ",
     "delete_cmd_prefix": "rm(",
     "library": "var_list.r",
     "varRefreshCmd": "cat(var_dic_list()) "
    }
   },
   "position": {
    "height": "376px",
    "left": "1550px",
    "right": "20px",
    "top": "120px",
    "width": "350px"
   },
   "types_to_exclude": [
    "module",
    "function",
    "builtin_function_or_method",
    "instance",
    "_Feature"
   ],
   "window_display": false
  }
 },
 "nbformat": 4,
 "nbformat_minor": 4
}
