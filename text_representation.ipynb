{
 "cells": [
  {
   "cell_type": "code",
   "execution_count": 1,
   "metadata": {
    "colab": {
     "base_uri": "https://localhost:8080/"
    },
    "executionInfo": {
     "elapsed": 24672,
     "status": "ok",
     "timestamp": 1623159141888,
     "user": {
      "displayName": "ja sen",
      "photoUrl": "https://lh3.googleusercontent.com/a-/AOh14Gh_Lc-2kDJwwgkAnne2v1zxyuxlU9A73axWpORH=s64",
      "userId": "13107892294865815341"
     },
     "user_tz": -480
    },
    "id": "qkauAvMLy5SF",
    "outputId": "c212bd2d-38cf-464a-b1d9-67e18995ed49"
   },
   "outputs": [
    {
     "name": "stdout",
     "output_type": "stream",
     "text": [
      "Mounted at /content/drive\n"
     ]
    }
   ],
   "source": [
    "from google.colab import drive\n",
    "drive.mount('/content/drive')"
   ]
  },
  {
   "cell_type": "code",
   "execution_count": 1,
   "metadata": {
    "executionInfo": {
     "elapsed": 470,
     "status": "ok",
     "timestamp": 1623159150372,
     "user": {
      "displayName": "ja sen",
      "photoUrl": "https://lh3.googleusercontent.com/a-/AOh14Gh_Lc-2kDJwwgkAnne2v1zxyuxlU9A73axWpORH=s64",
      "userId": "13107892294865815341"
     },
     "user_tz": -480
    },
    "id": "QgyPpE5By2iP"
   },
   "outputs": [],
   "source": [
    "import numpy as np\n",
    "import pandas as pd\n",
    "import sys,os\n",
    "from time import time"
   ]
  },
  {
   "cell_type": "code",
   "execution_count": 11,
   "metadata": {
    "executionInfo": {
     "elapsed": 3658,
     "status": "ok",
     "timestamp": 1623159155819,
     "user": {
      "displayName": "ja sen",
      "photoUrl": "https://lh3.googleusercontent.com/a-/AOh14Gh_Lc-2kDJwwgkAnne2v1zxyuxlU9A73axWpORH=s64",
      "userId": "13107892294865815341"
     },
     "user_tz": -480
    },
    "id": "w5BDuK-Py2iT"
   },
   "outputs": [],
   "source": [
    "import torch\n",
    "from torch import nn"
   ]
  },
  {
   "cell_type": "code",
   "execution_count": 3,
   "metadata": {
    "executionInfo": {
     "elapsed": 419,
     "status": "ok",
     "timestamp": 1623159178704,
     "user": {
      "displayName": "ja sen",
      "photoUrl": "https://lh3.googleusercontent.com/a-/AOh14Gh_Lc-2kDJwwgkAnne2v1zxyuxlU9A73axWpORH=s64",
      "userId": "13107892294865815341"
     },
     "user_tz": -480
    },
    "id": "B6U44HFhy2iU"
   },
   "outputs": [],
   "source": [
    "\"\"\"\n",
    "时间计算装饰器\n",
    "\"\"\"\n",
    "def call_time_with_name(name):\n",
    "    \n",
    "    def call_time(func):\n",
    "        def wraps(*args, **kargs):\n",
    "            t0 = time.time()\n",
    "            result = func(*args,**kargs)\n",
    "            print(f'{name}用时: {time.time() - t0:0.3f}')\n",
    "            return result\n",
    "        return wraps\n",
    "    \n",
    "    return call_time"
   ]
  },
  {
   "cell_type": "markdown",
   "metadata": {
    "id": "R0FvMlI8y2iU"
   },
   "source": [
    "# read corpus"
   ]
  },
  {
   "cell_type": "code",
   "execution_count": 4,
   "metadata": {
    "executionInfo": {
     "elapsed": 1116,
     "status": "ok",
     "timestamp": 1623159363129,
     "user": {
      "displayName": "ja sen",
      "photoUrl": "https://lh3.googleusercontent.com/a-/AOh14Gh_Lc-2kDJwwgkAnne2v1zxyuxlU9A73axWpORH=s64",
      "userId": "13107892294865815341"
     },
     "user_tz": -480
    },
    "id": "PDfFqHzEy2iV"
   },
   "outputs": [],
   "source": [
    "f = open('../../nlp_resource/dataset/bq_corpus/train.tsv',mode='r', encoding='utf-8')\n",
    "\n",
    "data = []\n",
    "line = f.readline()\n",
    "while line:\n",
    "#     print(line)\n",
    "    q1,q2,y = line.strip().split('\\t')\n",
    "    data.append([q1,q2,y])\n",
    "    line = f.readline()    "
   ]
  },
  {
   "cell_type": "code",
   "execution_count": 5,
   "metadata": {
    "executionInfo": {
     "elapsed": 494,
     "status": "ok",
     "timestamp": 1623159367662,
     "user": {
      "displayName": "ja sen",
      "photoUrl": "https://lh3.googleusercontent.com/a-/AOh14Gh_Lc-2kDJwwgkAnne2v1zxyuxlU9A73axWpORH=s64",
      "userId": "13107892294865815341"
     },
     "user_tz": -480
    },
    "id": "ebVTuTDRy2iV"
   },
   "outputs": [],
   "source": [
    "data = pd.DataFrame(data, columns=['q1','q2','label'])"
   ]
  },
  {
   "cell_type": "code",
   "execution_count": 6,
   "metadata": {
    "colab": {
     "base_uri": "https://localhost:8080/"
    },
    "executionInfo": {
     "elapsed": 3,
     "status": "ok",
     "timestamp": 1623159369559,
     "user": {
      "displayName": "ja sen",
      "photoUrl": "https://lh3.googleusercontent.com/a-/AOh14Gh_Lc-2kDJwwgkAnne2v1zxyuxlU9A73axWpORH=s64",
      "userId": "13107892294865815341"
     },
     "user_tz": -480
    },
    "id": "9YItdKMry2iW",
    "outputId": "1d693ee4-4d4a-41a4-c513-7e87a4abe56e"
   },
   "outputs": [
    {
     "data": {
      "text/plain": [
       "0    50000\n",
       "1    50000\n",
       "Name: label, dtype: int64"
      ]
     },
     "execution_count": 6,
     "metadata": {},
     "output_type": "execute_result"
    }
   ],
   "source": [
    "data.label.value_counts()"
   ]
  },
  {
   "cell_type": "code",
   "execution_count": 7,
   "metadata": {
    "colab": {
     "base_uri": "https://localhost:8080/",
     "height": 204
    },
    "executionInfo": {
     "elapsed": 678,
     "status": "ok",
     "timestamp": 1623159584116,
     "user": {
      "displayName": "ja sen",
      "photoUrl": "https://lh3.googleusercontent.com/a-/AOh14Gh_Lc-2kDJwwgkAnne2v1zxyuxlU9A73axWpORH=s64",
      "userId": "13107892294865815341"
     },
     "user_tz": -480
    },
    "id": "Yhz4lD8j1nwf",
    "outputId": "db703da1-e789-4f78-b992-5854c6caf124"
   },
   "outputs": [
    {
     "data": {
      "text/html": [
       "<div>\n",
       "<style scoped>\n",
       "    .dataframe tbody tr th:only-of-type {\n",
       "        vertical-align: middle;\n",
       "    }\n",
       "\n",
       "    .dataframe tbody tr th {\n",
       "        vertical-align: top;\n",
       "    }\n",
       "\n",
       "    .dataframe thead th {\n",
       "        text-align: right;\n",
       "    }\n",
       "</style>\n",
       "<table border=\"1\" class=\"dataframe\">\n",
       "  <thead>\n",
       "    <tr style=\"text-align: right;\">\n",
       "      <th></th>\n",
       "      <th>q1</th>\n",
       "      <th>q2</th>\n",
       "      <th>label</th>\n",
       "    </tr>\n",
       "  </thead>\n",
       "  <tbody>\n",
       "    <tr>\n",
       "      <th>0</th>\n",
       "      <td>用微信都6年，微信没有微粒贷功能</td>\n",
       "      <td>4。号码来微粒贷</td>\n",
       "      <td>0</td>\n",
       "    </tr>\n",
       "    <tr>\n",
       "      <th>1</th>\n",
       "      <td>微信消费算吗</td>\n",
       "      <td>还有多少钱没还</td>\n",
       "      <td>0</td>\n",
       "    </tr>\n",
       "    <tr>\n",
       "      <th>2</th>\n",
       "      <td>交易密码忘记了找回密码绑定的手机卡也掉了</td>\n",
       "      <td>怎么最近安全老是要改密码呢好麻烦</td>\n",
       "      <td>0</td>\n",
       "    </tr>\n",
       "    <tr>\n",
       "      <th>3</th>\n",
       "      <td>你好我昨天晚上申请的没有打电话给我今天之内一定会打吗？</td>\n",
       "      <td>什么时候可以到账</td>\n",
       "      <td>0</td>\n",
       "    </tr>\n",
       "    <tr>\n",
       "      <th>4</th>\n",
       "      <td>“微粒贷开通\"</td>\n",
       "      <td>你好，我的微粒贷怎么没有开通呢</td>\n",
       "      <td>0</td>\n",
       "    </tr>\n",
       "  </tbody>\n",
       "</table>\n",
       "</div>"
      ],
      "text/plain": [
       "                            q1                q2 label\n",
       "0             用微信都6年，微信没有微粒贷功能          4。号码来微粒贷     0\n",
       "1                       微信消费算吗           还有多少钱没还     0\n",
       "2         交易密码忘记了找回密码绑定的手机卡也掉了  怎么最近安全老是要改密码呢好麻烦     0\n",
       "3  你好我昨天晚上申请的没有打电话给我今天之内一定会打吗？          什么时候可以到账     0\n",
       "4                      “微粒贷开通\"   你好，我的微粒贷怎么没有开通呢     0"
      ]
     },
     "execution_count": 7,
     "metadata": {},
     "output_type": "execute_result"
    }
   ],
   "source": [
    "data.head()"
   ]
  },
  {
   "cell_type": "code",
   "execution_count": 27,
   "metadata": {},
   "outputs": [],
   "source": [
    "len_q1 = data.q1.apply(lambda x:len(x))\n",
    "len_q2 = data.q2.apply(lambda x:len(x))"
   ]
  },
  {
   "cell_type": "code",
   "execution_count": 34,
   "metadata": {},
   "outputs": [
    {
     "data": {
      "text/plain": [
       "array([0. , 0.1, 0.2, 0.3, 0.4, 0.5, 0.6, 0.7, 0.8, 0.9])"
      ]
     },
     "execution_count": 34,
     "metadata": {},
     "output_type": "execute_result"
    }
   ],
   "source": []
  },
  {
   "cell_type": "code",
   "execution_count": 35,
   "metadata": {},
   "outputs": [
    {
     "data": {
      "text/plain": [
       "count    200000.000000\n",
       "mean         11.859765\n",
       "std           7.304856\n",
       "min           1.000000\n",
       "0%            1.000000\n",
       "10%           5.000000\n",
       "20%           7.000000\n",
       "30%           8.000000\n",
       "40%           9.000000\n",
       "50%          10.000000\n",
       "60%          12.000000\n",
       "70%          13.000000\n",
       "80%          16.000000\n",
       "90%          20.000000\n",
       "max         153.000000\n",
       "dtype: float64"
      ]
     },
     "execution_count": 35,
     "metadata": {},
     "output_type": "execute_result"
    }
   ],
   "source": [
    "len_q1.append(len_q2).describe(percentiles=np.arange(0,1,0.1))"
   ]
  },
  {
   "cell_type": "code",
   "execution_count": null,
   "metadata": {},
   "outputs": [],
   "source": []
  },
  {
   "cell_type": "markdown",
   "metadata": {
    "id": "E7LhOU5l2hnR"
   },
   "source": [
    "## Sentence bert"
   ]
  },
  {
   "cell_type": "code",
   "execution_count": 8,
   "metadata": {
    "colab": {
     "base_uri": "https://localhost:8080/",
     "height": 173
    },
    "executionInfo": {
     "elapsed": 524,
     "status": "error",
     "timestamp": 1623159676457,
     "user": {
      "displayName": "ja sen",
      "photoUrl": "https://lh3.googleusercontent.com/a-/AOh14Gh_Lc-2kDJwwgkAnne2v1zxyuxlU9A73axWpORH=s64",
      "userId": "13107892294865815341"
     },
     "user_tz": -480
    },
    "id": "5AH4K0Yy2hUq",
    "outputId": "6de2d7c1-3ac5-41f7-ba09-27ed270b0749"
   },
   "outputs": [],
   "source": [
    "from transformers import AutoTokenizer,BertModel"
   ]
  },
  {
   "cell_type": "code",
   "execution_count": 10,
   "metadata": {
    "id": "uhDwNBB02hSI"
   },
   "outputs": [],
   "source": [
    "tokenizer = AutoTokenizer.from_pretrained('../../nlp_resource/transformers/bert-base-chinese/')\n",
    "bert = BertModel.from_pretrained('../../nlp_resource/transformers/bert-base-chinese/')"
   ]
  },
  {
   "cell_type": "code",
   "execution_count": null,
   "metadata": {
    "id": "Qtg0O2GX2hNq"
   },
   "outputs": [],
   "source": [
    "class SentenceBert(nn.Module):\n",
    "    \n",
    "    def __init__(self):\n",
    "        global bert, tokenizer\n",
    "        \n",
    "        super().__init__()\n",
    "        self.tokenizer = tokenizer\n",
    "        self.bert = bert\n",
    "        self.linear = nn.linear(768*3, 2, bias=True)\n",
    "        self.softmax = nn.softmax(dim=2)\n",
    "        \n",
    "    def forward(self, q1,q2)\n",
    "        x = self.tokenizer(q1,q2,\n",
    "                       padding=True,\n",
    "                       truncation=True,\n",
    "                       max_len=20,\n",
    "                       return_tensors='pt')\n",
    "        x = self.bert(**x)\n",
    "        x = self.linear(x[0])\n",
    "        y_pre = self.softmax(x)\n",
    "        \n",
    "        "
   ]
  },
  {
   "cell_type": "code",
   "execution_count": null,
   "metadata": {
    "id": "buKYrDnl2hG7"
   },
   "outputs": [],
   "source": []
  },
  {
   "cell_type": "code",
   "execution_count": null,
   "metadata": {
    "id": "C2_7T7EX2cjh"
   },
   "outputs": [],
   "source": [
    " "
   ]
  },
  {
   "cell_type": "code",
   "execution_count": 15,
   "metadata": {
    "colab": {
     "base_uri": "https://localhost:8080/",
     "height": 173
    },
    "executionInfo": {
     "elapsed": 7,
     "status": "error",
     "timestamp": 1623159591503,
     "user": {
      "displayName": "ja sen",
      "photoUrl": "https://lh3.googleusercontent.com/a-/AOh14Gh_Lc-2kDJwwgkAnne2v1zxyuxlU9A73axWpORH=s64",
      "userId": "13107892294865815341"
     },
     "user_tz": -480
    },
    "id": "i02dI2ui2bDv",
    "outputId": "01d2768b-2e99-44f4-bd02-8244c1af3d07"
   },
   "outputs": [
    {
     "ename": "NameError",
     "evalue": "ignored",
     "output_type": "error",
     "traceback": [
      "\u001b[0;31m---------------------------------------------------------------------------\u001b[0m",
      "\u001b[0;31mNameError\u001b[0m                                 Traceback (most recent call last)",
      "\u001b[0;32m<ipython-input-15-9619a9b308cd>\u001b[0m in \u001b[0;36m<module>\u001b[0;34m()\u001b[0m\n\u001b[0;32m----> 1\u001b[0;31m \u001b[0mbb\u001b[0m\u001b[0;34m\u001b[0m\u001b[0;34m\u001b[0m\u001b[0m\n\u001b[0m",
      "\u001b[0;31mNameError\u001b[0m: name 'bb' is not defined"
     ]
    }
   ],
   "source": [
    "bb"
   ]
  }
 ],
 "metadata": {
  "accelerator": "GPU",
  "colab": {
   "collapsed_sections": [],
   "name": "text_representation.ipynb",
   "provenance": [],
   "toc_visible": true
  },
  "kernelspec": {
   "display_name": "Python 3",
   "language": "python",
   "name": "python3"
  },
  "language_info": {
   "codemirror_mode": {
    "name": "ipython",
    "version": 3
   },
   "file_extension": ".py",
   "mimetype": "text/x-python",
   "name": "python",
   "nbconvert_exporter": "python",
   "pygments_lexer": "ipython3",
   "version": "3.6.10"
  },
  "toc": {
   "base_numbering": 1,
   "nav_menu": {},
   "number_sections": true,
   "sideBar": true,
   "skip_h1_title": false,
   "title_cell": "Table of Contents",
   "title_sidebar": "Contents",
   "toc_cell": false,
   "toc_position": {
    "height": "calc(100% - 180px)",
    "left": "10px",
    "top": "150px",
    "width": "165px"
   },
   "toc_section_display": true,
   "toc_window_display": true
  },
  "varInspector": {
   "cols": {
    "lenName": 16,
    "lenType": 16,
    "lenVar": 40
   },
   "kernels_config": {
    "python": {
     "delete_cmd_postfix": "",
     "delete_cmd_prefix": "del ",
     "library": "var_list.py",
     "varRefreshCmd": "print(var_dic_list())"
    },
    "r": {
     "delete_cmd_postfix": ") ",
     "delete_cmd_prefix": "rm(",
     "library": "var_list.r",
     "varRefreshCmd": "cat(var_dic_list()) "
    }
   },
   "oldHeight": 122,
   "position": {
    "height": "40px",
    "left": "1612px",
    "right": "20px",
    "top": "43px",
    "width": "250px"
   },
   "types_to_exclude": [
    "module",
    "function",
    "builtin_function_or_method",
    "instance",
    "_Feature"
   ],
   "varInspector_section_display": "none",
   "window_display": true
  }
 },
 "nbformat": 4,
 "nbformat_minor": 1
}
